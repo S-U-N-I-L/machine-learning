{
  "nbformat": 4,
  "nbformat_minor": 0,
  "metadata": {
    "colab": {
      "name": "linar-reg-with-LSM.ipynb",
      "provenance": [],
      "authorship_tag": "ABX9TyPtbqtTkbkQmBkczXrI5u1d",
      "include_colab_link": true
    },
    "kernelspec": {
      "name": "python3",
      "display_name": "Python 3"
    }
  },
  "cells": [
    {
      "cell_type": "markdown",
      "metadata": {
        "id": "view-in-github",
        "colab_type": "text"
      },
      "source": [
        "<a href=\"https://colab.research.google.com/github/sunil-github-account/machine-learning/blob/master/linar_reg_with_LSM.ipynb\" target=\"_parent\"><img src=\"https://colab.research.google.com/assets/colab-badge.svg\" alt=\"Open In Colab\"/></a>"
      ]
    },
    {
      "cell_type": "markdown",
      "metadata": {
        "id": "hXJSiaaseX2b",
        "colab_type": "text"
      },
      "source": [
        "We will see the least square method of linear regression, to find the best line of fit, we first get the mean(sum/no of records) for x and y and then apply the formulae to find m and b in y = mx + b. where me is slope and b is y intercept.\n",
        "\n",
        "Lets understand the below code:\n",
        "when we have a set of x and y cordinates, we first try to find the mean(avg) of x and y by adding all x and y and divide them by number of x's or y that we call n ( number of items)\n",
        "\n",
        "when we have mean of x and y, usually called x_Bar and y_bar, then we try to find x - x_bar and y - y bar, once we have both then will find sum of square of (x - xbar ) and sum of multiplicatoin of (x - xbar) and (y - ybar)\n",
        "\n",
        "to find out the slope m = sum of multiplicatoin of (x - xbar) and (y - ybar) / sum of square of (x - xbar )\n",
        "\n",
        "finally to find b just use y = mx + b, this line will always go through mean of x and mean of y cordinates, by putting x and y in this equation and using m's value we can find out b, intercept of y\n",
        "\n",
        "\n",
        "\n",
        "\n"
      ]
    },
    {
      "cell_type": "code",
      "metadata": {
        "id": "n-WvPoZjevsE",
        "colab_type": "code",
        "outputId": "8386f351-c180-496a-c6c1-f090e97fb036",
        "colab": {
          "base_uri": "https://localhost:8080/",
          "height": 51
        }
      },
      "source": [
        "import numpy as np\n",
        "\n",
        "\n",
        "def get_slope(x_multiply_y, x_square):\n",
        "  return x_multiply_y/x_square\n",
        "\n",
        "def get_yintercept(x, y, m):\n",
        "  pass\n",
        "\n",
        "\n",
        "x = np.array([2,4,5,5,6])\n",
        "y = np.array([3,4,5,4,6])\n",
        "\n",
        "x_mean = np.average(x)\n",
        "y_mean = np.average(y)\n",
        "\n",
        "x_minus_xbar = x_mean - x\n",
        "y_minus_ybar = y_mean - y\n",
        "\n",
        "\n",
        "\n",
        "x_y_sum = sum(x_minus_xbar * y_minus_ybar)\n",
        "x_xbar_sq_sum = sum(x_minus_xbar * x_minus_xbar)\n",
        "\n",
        "m = x_y_sum / x_xbar_sq_sum\n",
        "\n",
        "b = y_mean - m * x_mean\n",
        "\n",
        "print('slope is' , m)\n",
        "print('b ', b)\n",
        "\n"
      ],
      "execution_count": 0,
      "outputs": [
        {
          "output_type": "stream",
          "text": [
            "slope is 0.6739130434782609\n",
            "b  1.4347826086956523\n"
          ],
          "name": "stdout"
        }
      ]
    },
    {
      "cell_type": "code",
      "metadata": {
        "id": "uQVfoNEfp9kW",
        "colab_type": "code",
        "colab": {}
      },
      "source": [
        ""
      ],
      "execution_count": 0,
      "outputs": []
    }
  ]
}